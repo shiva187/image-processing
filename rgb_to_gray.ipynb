{
  "nbformat": 4,
  "nbformat_minor": 0,
  "metadata": {
    "colab": {
      "provenance": [],
      "authorship_tag": "ABX9TyOlN8PyZkT59zteElI82rwQ",
      "include_colab_link": true
    },
    "kernelspec": {
      "name": "python3",
      "display_name": "Python 3"
    },
    "language_info": {
      "name": "python"
    }
  },
  "cells": [
    {
      "cell_type": "markdown",
      "metadata": {
        "id": "view-in-github",
        "colab_type": "text"
      },
      "source": [
        "<a href=\"https://colab.research.google.com/github/shiva187/image-processing/blob/main/rgb_to_gray.ipynb\" target=\"_parent\"><img src=\"https://colab.research.google.com/assets/colab-badge.svg\" alt=\"Open In Colab\"/></a>"
      ]
    },
    {
      "cell_type": "code",
      "execution_count": null,
      "metadata": {
        "colab": {
          "base_uri": "https://localhost:8080/"
        },
        "id": "ZoI23fcBu-hi",
        "outputId": "ac723bbe-a495-4f6a-bb3f-4f64e09b5abe"
      },
      "outputs": [
        {
          "output_type": "stream",
          "name": "stdout",
          "text": [
            "Error: Could not load image. Please check the file path.\n"
          ]
        }
      ],
      "source": [
        "import cv2\n",
        "import matplotlib.pyplot as plt\n",
        "\n",
        "# 1. Read an image (change path if needed, Colab supports upload too)\n",
        "img = cv2.imread(\"sample1.JPG\")  # put your image path here\n",
        "\n",
        "# Check if the image was loaded successfully\n",
        "if img is None:\n",
        "    print(\"Error: Could not load image. Please check the file path.\")\n",
        "else:\n",
        "    # 2. Write (save) the image\n",
        "    cv2.imwrite(\"sample_out.png\", img)\n",
        "\n",
        "    # 3. Display Original Image (BGR → RGB for matplotlib)\n",
        "    img_rgb = cv2.cvtColor(img, cv2.COLOR_BGR2RGB)\n",
        "    plt.imshow(img_rgb)\n",
        "    plt.title(\"Original Image (RGB)\")\n",
        "    plt.axis(\"off\")\n",
        "    plt.show()\n",
        "\n",
        "    # 4. Accessing Pixel Values\n",
        "    (b, g, r) = img[100, 150]   # pixel at row=100, col=150\n",
        "    print(f\"Pixel value at (100,150): B={b}, G={g}, R={r}\")\n",
        "\n",
        "    # 5. Convert to Grayscale\n",
        "    gray = cv2.cvtColor(img, cv2.COLOR_BGR2GRAY)\n",
        "    plt.imshow(gray, cmap=\"gray\")\n",
        "    plt.title(\"Grayscale Image\")\n",
        "    plt.axis(\"off\")\n",
        "    plt.show()\n",
        "\n",
        "    # 6. Convert to Binary (Black & White)\n",
        "    _, binary = cv2.threshold(gray, 127, 255, cv2.THRESH_BINARY)\n",
        "    plt.imshow(binary, cmap=\"gray\")\n",
        "    plt.title(\"Binary (Black & White) Image\")\n",
        "    plt.axis(\"off\")\n",
        "    plt.show()\n",
        "\n",
        "    # 7. Save processed images\n",
        "    cv2.imwrite(\"/content/output_gray.png\", gray)\n",
        "    cv2.imwrite(\"/content/output_binary.png\", binary)"
      ]
    }
  ]
}